{
 "cells": [
  {
   "cell_type": "code",
   "execution_count": 1,
   "metadata": {},
   "outputs": [],
   "source": [
    "# Importing important libraries that are going to be used and giving them a nick name\n",
    "import pandas as pd\n",
    "import numpy as np\n",
    "import seaborn as sns"
   ]
  },
  {
   "cell_type": "code",
   "execution_count": 2,
   "metadata": {},
   "outputs": [
    {
     "data": {
      "text/html": [
       "<div>\n",
       "<style scoped>\n",
       "    .dataframe tbody tr th:only-of-type {\n",
       "        vertical-align: middle;\n",
       "    }\n",
       "\n",
       "    .dataframe tbody tr th {\n",
       "        vertical-align: top;\n",
       "    }\n",
       "\n",
       "    .dataframe thead th {\n",
       "        text-align: right;\n",
       "    }\n",
       "</style>\n",
       "<table border=\"1\" class=\"dataframe\">\n",
       "  <thead>\n",
       "    <tr style=\"text-align: right;\">\n",
       "      <th></th>\n",
       "      <th>age</th>\n",
       "      <th>job</th>\n",
       "      <th>marital</th>\n",
       "      <th>education</th>\n",
       "      <th>default</th>\n",
       "      <th>housing</th>\n",
       "      <th>loan</th>\n",
       "      <th>contact</th>\n",
       "      <th>month</th>\n",
       "      <th>day_of_week</th>\n",
       "      <th>...</th>\n",
       "      <th>campaign</th>\n",
       "      <th>pdays</th>\n",
       "      <th>previous</th>\n",
       "      <th>poutcome</th>\n",
       "      <th>emp.var.rate</th>\n",
       "      <th>cons.price.idx</th>\n",
       "      <th>cons.conf.idx</th>\n",
       "      <th>euribor3m</th>\n",
       "      <th>nr.employed</th>\n",
       "      <th>y</th>\n",
       "    </tr>\n",
       "  </thead>\n",
       "  <tbody>\n",
       "    <tr>\n",
       "      <th>0</th>\n",
       "      <td>56</td>\n",
       "      <td>housemaid</td>\n",
       "      <td>married</td>\n",
       "      <td>basic.4y</td>\n",
       "      <td>no</td>\n",
       "      <td>no</td>\n",
       "      <td>no</td>\n",
       "      <td>telephone</td>\n",
       "      <td>may</td>\n",
       "      <td>mon</td>\n",
       "      <td>...</td>\n",
       "      <td>1</td>\n",
       "      <td>999</td>\n",
       "      <td>0</td>\n",
       "      <td>nonexistent</td>\n",
       "      <td>1.1</td>\n",
       "      <td>93.994</td>\n",
       "      <td>-36.4</td>\n",
       "      <td>4.857</td>\n",
       "      <td>5191.0</td>\n",
       "      <td>no</td>\n",
       "    </tr>\n",
       "    <tr>\n",
       "      <th>1</th>\n",
       "      <td>57</td>\n",
       "      <td>services</td>\n",
       "      <td>married</td>\n",
       "      <td>high.school</td>\n",
       "      <td>unknown</td>\n",
       "      <td>no</td>\n",
       "      <td>no</td>\n",
       "      <td>telephone</td>\n",
       "      <td>may</td>\n",
       "      <td>mon</td>\n",
       "      <td>...</td>\n",
       "      <td>1</td>\n",
       "      <td>999</td>\n",
       "      <td>0</td>\n",
       "      <td>nonexistent</td>\n",
       "      <td>1.1</td>\n",
       "      <td>93.994</td>\n",
       "      <td>-36.4</td>\n",
       "      <td>4.857</td>\n",
       "      <td>5191.0</td>\n",
       "      <td>no</td>\n",
       "    </tr>\n",
       "    <tr>\n",
       "      <th>2</th>\n",
       "      <td>37</td>\n",
       "      <td>services</td>\n",
       "      <td>married</td>\n",
       "      <td>high.school</td>\n",
       "      <td>no</td>\n",
       "      <td>yes</td>\n",
       "      <td>no</td>\n",
       "      <td>telephone</td>\n",
       "      <td>may</td>\n",
       "      <td>mon</td>\n",
       "      <td>...</td>\n",
       "      <td>1</td>\n",
       "      <td>999</td>\n",
       "      <td>0</td>\n",
       "      <td>nonexistent</td>\n",
       "      <td>1.1</td>\n",
       "      <td>93.994</td>\n",
       "      <td>-36.4</td>\n",
       "      <td>4.857</td>\n",
       "      <td>5191.0</td>\n",
       "      <td>no</td>\n",
       "    </tr>\n",
       "    <tr>\n",
       "      <th>3</th>\n",
       "      <td>40</td>\n",
       "      <td>admin.</td>\n",
       "      <td>married</td>\n",
       "      <td>basic.6y</td>\n",
       "      <td>no</td>\n",
       "      <td>no</td>\n",
       "      <td>no</td>\n",
       "      <td>telephone</td>\n",
       "      <td>may</td>\n",
       "      <td>mon</td>\n",
       "      <td>...</td>\n",
       "      <td>1</td>\n",
       "      <td>999</td>\n",
       "      <td>0</td>\n",
       "      <td>nonexistent</td>\n",
       "      <td>1.1</td>\n",
       "      <td>93.994</td>\n",
       "      <td>-36.4</td>\n",
       "      <td>4.857</td>\n",
       "      <td>5191.0</td>\n",
       "      <td>no</td>\n",
       "    </tr>\n",
       "    <tr>\n",
       "      <th>4</th>\n",
       "      <td>56</td>\n",
       "      <td>services</td>\n",
       "      <td>married</td>\n",
       "      <td>high.school</td>\n",
       "      <td>no</td>\n",
       "      <td>no</td>\n",
       "      <td>yes</td>\n",
       "      <td>telephone</td>\n",
       "      <td>may</td>\n",
       "      <td>mon</td>\n",
       "      <td>...</td>\n",
       "      <td>1</td>\n",
       "      <td>999</td>\n",
       "      <td>0</td>\n",
       "      <td>nonexistent</td>\n",
       "      <td>1.1</td>\n",
       "      <td>93.994</td>\n",
       "      <td>-36.4</td>\n",
       "      <td>4.857</td>\n",
       "      <td>5191.0</td>\n",
       "      <td>no</td>\n",
       "    </tr>\n",
       "  </tbody>\n",
       "</table>\n",
       "<p>5 rows × 21 columns</p>\n",
       "</div>"
      ],
      "text/plain": [
       "   age        job  marital    education  default housing loan    contact  \\\n",
       "0   56  housemaid  married     basic.4y       no      no   no  telephone   \n",
       "1   57   services  married  high.school  unknown      no   no  telephone   \n",
       "2   37   services  married  high.school       no     yes   no  telephone   \n",
       "3   40     admin.  married     basic.6y       no      no   no  telephone   \n",
       "4   56   services  married  high.school       no      no  yes  telephone   \n",
       "\n",
       "  month day_of_week  ...  campaign  pdays  previous     poutcome emp.var.rate  \\\n",
       "0   may         mon  ...         1    999         0  nonexistent          1.1   \n",
       "1   may         mon  ...         1    999         0  nonexistent          1.1   \n",
       "2   may         mon  ...         1    999         0  nonexistent          1.1   \n",
       "3   may         mon  ...         1    999         0  nonexistent          1.1   \n",
       "4   may         mon  ...         1    999         0  nonexistent          1.1   \n",
       "\n",
       "   cons.price.idx  cons.conf.idx  euribor3m  nr.employed   y  \n",
       "0          93.994          -36.4      4.857       5191.0  no  \n",
       "1          93.994          -36.4      4.857       5191.0  no  \n",
       "2          93.994          -36.4      4.857       5191.0  no  \n",
       "3          93.994          -36.4      4.857       5191.0  no  \n",
       "4          93.994          -36.4      4.857       5191.0  no  \n",
       "\n",
       "[5 rows x 21 columns]"
      ]
     },
     "execution_count": 2,
     "metadata": {},
     "output_type": "execute_result"
    }
   ],
   "source": [
    "# Converting dataset into a pandas dataframe and printing first five rows of the dataframe\n",
    "data_frame = pd.read_csv(\"bank-additional-full.csv\", sep=\";\")\n",
    "data_frame.head()"
   ]
  },
  {
   "cell_type": "code",
   "execution_count": 3,
   "metadata": {},
   "outputs": [],
   "source": [
    "# Importing another important library\n",
    "from sklearn.feature_extraction import DictVectorizer"
   ]
  },
  {
   "cell_type": "code",
   "execution_count": 4,
   "metadata": {},
   "outputs": [],
   "source": [
    "# Converting the pandas dataframe to a dictionary\n",
    "data_dict = data_frame.T.to_dict().values()"
   ]
  },
  {
   "cell_type": "code",
   "execution_count": 5,
   "metadata": {},
   "outputs": [],
   "source": [
    "# Assigning the library to a variable \n",
    "dv = DictVectorizer()"
   ]
  },
  {
   "cell_type": "markdown",
   "metadata": {},
   "source": [
    "### Transforming text based classified features to one hot encoded features"
   ]
  },
  {
   "cell_type": "code",
   "execution_count": 6,
   "metadata": {},
   "outputs": [],
   "source": [
    "# Converting the dictionary to a array\n",
    "data_array = dv.fit_transform(data_dict).toarray()\n",
    "\n",
    "# Assigning the variable with the name of the features\n",
    "data_features = dv.get_feature_names()"
   ]
  },
  {
   "cell_type": "code",
   "execution_count": 7,
   "metadata": {},
   "outputs": [
    {
     "data": {
      "text/html": [
       "<div>\n",
       "<style scoped>\n",
       "    .dataframe tbody tr th:only-of-type {\n",
       "        vertical-align: middle;\n",
       "    }\n",
       "\n",
       "    .dataframe tbody tr th {\n",
       "        vertical-align: top;\n",
       "    }\n",
       "\n",
       "    .dataframe thead th {\n",
       "        text-align: right;\n",
       "    }\n",
       "</style>\n",
       "<table border=\"1\" class=\"dataframe\">\n",
       "  <thead>\n",
       "    <tr style=\"text-align: right;\">\n",
       "      <th></th>\n",
       "      <th>age</th>\n",
       "      <th>campaign</th>\n",
       "      <th>cons.conf.idx</th>\n",
       "      <th>cons.price.idx</th>\n",
       "      <th>contact=cellular</th>\n",
       "      <th>contact=telephone</th>\n",
       "      <th>day_of_week=fri</th>\n",
       "      <th>day_of_week=mon</th>\n",
       "      <th>day_of_week=thu</th>\n",
       "      <th>day_of_week=tue</th>\n",
       "      <th>...</th>\n",
       "      <th>month=oct</th>\n",
       "      <th>month=sep</th>\n",
       "      <th>nr.employed</th>\n",
       "      <th>pdays</th>\n",
       "      <th>poutcome=failure</th>\n",
       "      <th>poutcome=nonexistent</th>\n",
       "      <th>poutcome=success</th>\n",
       "      <th>previous</th>\n",
       "      <th>y=no</th>\n",
       "      <th>y=yes</th>\n",
       "    </tr>\n",
       "  </thead>\n",
       "  <tbody>\n",
       "    <tr>\n",
       "      <th>0</th>\n",
       "      <td>56.0</td>\n",
       "      <td>1.0</td>\n",
       "      <td>-36.4</td>\n",
       "      <td>93.994</td>\n",
       "      <td>0.0</td>\n",
       "      <td>1.0</td>\n",
       "      <td>0.0</td>\n",
       "      <td>1.0</td>\n",
       "      <td>0.0</td>\n",
       "      <td>0.0</td>\n",
       "      <td>...</td>\n",
       "      <td>0.0</td>\n",
       "      <td>0.0</td>\n",
       "      <td>5191.0</td>\n",
       "      <td>999.0</td>\n",
       "      <td>0.0</td>\n",
       "      <td>1.0</td>\n",
       "      <td>0.0</td>\n",
       "      <td>0.0</td>\n",
       "      <td>1.0</td>\n",
       "      <td>0.0</td>\n",
       "    </tr>\n",
       "    <tr>\n",
       "      <th>1</th>\n",
       "      <td>57.0</td>\n",
       "      <td>1.0</td>\n",
       "      <td>-36.4</td>\n",
       "      <td>93.994</td>\n",
       "      <td>0.0</td>\n",
       "      <td>1.0</td>\n",
       "      <td>0.0</td>\n",
       "      <td>1.0</td>\n",
       "      <td>0.0</td>\n",
       "      <td>0.0</td>\n",
       "      <td>...</td>\n",
       "      <td>0.0</td>\n",
       "      <td>0.0</td>\n",
       "      <td>5191.0</td>\n",
       "      <td>999.0</td>\n",
       "      <td>0.0</td>\n",
       "      <td>1.0</td>\n",
       "      <td>0.0</td>\n",
       "      <td>0.0</td>\n",
       "      <td>1.0</td>\n",
       "      <td>0.0</td>\n",
       "    </tr>\n",
       "    <tr>\n",
       "      <th>2</th>\n",
       "      <td>37.0</td>\n",
       "      <td>1.0</td>\n",
       "      <td>-36.4</td>\n",
       "      <td>93.994</td>\n",
       "      <td>0.0</td>\n",
       "      <td>1.0</td>\n",
       "      <td>0.0</td>\n",
       "      <td>1.0</td>\n",
       "      <td>0.0</td>\n",
       "      <td>0.0</td>\n",
       "      <td>...</td>\n",
       "      <td>0.0</td>\n",
       "      <td>0.0</td>\n",
       "      <td>5191.0</td>\n",
       "      <td>999.0</td>\n",
       "      <td>0.0</td>\n",
       "      <td>1.0</td>\n",
       "      <td>0.0</td>\n",
       "      <td>0.0</td>\n",
       "      <td>1.0</td>\n",
       "      <td>0.0</td>\n",
       "    </tr>\n",
       "    <tr>\n",
       "      <th>3</th>\n",
       "      <td>40.0</td>\n",
       "      <td>1.0</td>\n",
       "      <td>-36.4</td>\n",
       "      <td>93.994</td>\n",
       "      <td>0.0</td>\n",
       "      <td>1.0</td>\n",
       "      <td>0.0</td>\n",
       "      <td>1.0</td>\n",
       "      <td>0.0</td>\n",
       "      <td>0.0</td>\n",
       "      <td>...</td>\n",
       "      <td>0.0</td>\n",
       "      <td>0.0</td>\n",
       "      <td>5191.0</td>\n",
       "      <td>999.0</td>\n",
       "      <td>0.0</td>\n",
       "      <td>1.0</td>\n",
       "      <td>0.0</td>\n",
       "      <td>0.0</td>\n",
       "      <td>1.0</td>\n",
       "      <td>0.0</td>\n",
       "    </tr>\n",
       "    <tr>\n",
       "      <th>4</th>\n",
       "      <td>56.0</td>\n",
       "      <td>1.0</td>\n",
       "      <td>-36.4</td>\n",
       "      <td>93.994</td>\n",
       "      <td>0.0</td>\n",
       "      <td>1.0</td>\n",
       "      <td>0.0</td>\n",
       "      <td>1.0</td>\n",
       "      <td>0.0</td>\n",
       "      <td>0.0</td>\n",
       "      <td>...</td>\n",
       "      <td>0.0</td>\n",
       "      <td>0.0</td>\n",
       "      <td>5191.0</td>\n",
       "      <td>999.0</td>\n",
       "      <td>0.0</td>\n",
       "      <td>1.0</td>\n",
       "      <td>0.0</td>\n",
       "      <td>0.0</td>\n",
       "      <td>1.0</td>\n",
       "      <td>0.0</td>\n",
       "    </tr>\n",
       "  </tbody>\n",
       "</table>\n",
       "<p>5 rows × 65 columns</p>\n",
       "</div>"
      ],
      "text/plain": [
       "    age  campaign  cons.conf.idx  cons.price.idx  contact=cellular  \\\n",
       "0  56.0       1.0          -36.4          93.994               0.0   \n",
       "1  57.0       1.0          -36.4          93.994               0.0   \n",
       "2  37.0       1.0          -36.4          93.994               0.0   \n",
       "3  40.0       1.0          -36.4          93.994               0.0   \n",
       "4  56.0       1.0          -36.4          93.994               0.0   \n",
       "\n",
       "   contact=telephone  day_of_week=fri  day_of_week=mon  day_of_week=thu  \\\n",
       "0                1.0              0.0              1.0              0.0   \n",
       "1                1.0              0.0              1.0              0.0   \n",
       "2                1.0              0.0              1.0              0.0   \n",
       "3                1.0              0.0              1.0              0.0   \n",
       "4                1.0              0.0              1.0              0.0   \n",
       "\n",
       "   day_of_week=tue  ...  month=oct  month=sep  nr.employed  pdays  \\\n",
       "0              0.0  ...        0.0        0.0       5191.0  999.0   \n",
       "1              0.0  ...        0.0        0.0       5191.0  999.0   \n",
       "2              0.0  ...        0.0        0.0       5191.0  999.0   \n",
       "3              0.0  ...        0.0        0.0       5191.0  999.0   \n",
       "4              0.0  ...        0.0        0.0       5191.0  999.0   \n",
       "\n",
       "   poutcome=failure  poutcome=nonexistent  poutcome=success  previous  y=no  \\\n",
       "0               0.0                   1.0               0.0       0.0   1.0   \n",
       "1               0.0                   1.0               0.0       0.0   1.0   \n",
       "2               0.0                   1.0               0.0       0.0   1.0   \n",
       "3               0.0                   1.0               0.0       0.0   1.0   \n",
       "4               0.0                   1.0               0.0       0.0   1.0   \n",
       "\n",
       "   y=yes  \n",
       "0    0.0  \n",
       "1    0.0  \n",
       "2    0.0  \n",
       "3    0.0  \n",
       "4    0.0  \n",
       "\n",
       "[5 rows x 65 columns]"
      ]
     },
     "execution_count": 7,
     "metadata": {},
     "output_type": "execute_result"
    }
   ],
   "source": [
    "# Creating a new pandas dataframe and printing its first five rows\n",
    "data_frame2 = pd.DataFrame(data_array, columns=data_features)\n",
    "data_frame2.head()"
   ]
  },
  {
   "cell_type": "markdown",
   "metadata": {},
   "source": [
    "### Computation of Feature Importance"
   ]
  },
  {
   "cell_type": "code",
   "execution_count": 8,
   "metadata": {},
   "outputs": [],
   "source": [
    "# Importing few more libraries\n",
    "from sklearn.datasets import make_classification\n",
    "from sklearn.ensemble import RandomForestClassifier"
   ]
  },
  {
   "cell_type": "code",
   "execution_count": 9,
   "metadata": {},
   "outputs": [],
   "source": [
    "# Converting the dataframe object to a NumPy array to achieve faster computation.\n",
    "x = data_array[:, :-2]\n",
    "x = np.hstack((x[:, :14], x[:, 15:]))\n",
    "y = data_array[:, -1]"
   ]
  },
  {
   "cell_type": "code",
   "execution_count": 10,
   "metadata": {},
   "outputs": [],
   "source": [
    "# Creating a forest to compute the feature importance\n",
    "forest = RandomForestClassifier(n_estimators=250, random_state=7)\n",
    "\n",
    "forest.fit(x, y)\n",
    "importance = forest.feature_importances_\n",
    "\n",
    "std = np.std([tree.feature_importances_ for tree in forest.estimators_], axis=0)\n",
    "indices = np.argsort(importance)[::-1]"
   ]
  },
  {
   "cell_type": "code",
   "execution_count": 11,
   "metadata": {},
   "outputs": [
    {
     "name": "stdout",
     "output_type": "stream",
     "text": [
      "Feature Importances:\n",
      "1 feature age (0.163476)\n",
      "2 feature emp.var.rate (0.116798)\n",
      "3 feature campaign (0.084587)\n",
      "4 feature month=sep (0.052677)\n",
      "5 feature nr.employed (0.033459)\n",
      "6 feature cons.conf.idx (0.025719)\n",
      "7 feature poutcome=nonexistent (0.023575)\n",
      "8 feature cons.price.idx (0.022730)\n",
      "9 feature euribor3m (0.021330)\n",
      "10 feature housing=unknown (0.020919)\n",
      "11 feature education=unknown (0.019749)\n",
      "12 feature housing=yes (0.017830)\n",
      "13 feature marital=divorced (0.016699)\n",
      "14 feature education=basic.9y (0.016249)\n",
      "15 feature education=professional.course (0.016173)\n",
      "16 feature poutcome=success (0.015555)\n",
      "17 feature marital=married (0.014895)\n",
      "18 feature day_of_week=mon (0.014303)\n",
      "19 feature day_of_week=wed (0.014159)\n",
      "20 feature job=student (0.014124)\n",
      "21 feature day_of_week=thu (0.014124)\n",
      "22 feature day_of_week=tue (0.013909)\n",
      "23 feature job=unknown (0.013897)\n",
      "24 feature loan=unknown (0.013725)\n",
      "25 feature day_of_week=fri (0.013447)\n",
      "26 feature education=illiterate (0.011668)\n",
      "27 feature job=admin. (0.011630)\n",
      "28 feature education=basic.6y (0.011234)\n",
      "29 feature loan=yes (0.010486)\n",
      "30 feature job=housemaid (0.009314)\n",
      "31 feature job=self-employed (0.009026)\n",
      "32 feature contact=cellular (0.008272)\n",
      "33 feature duration (0.008234)\n",
      "34 feature pdays (0.008091)\n",
      "35 feature default=unknown (0.007640)\n",
      "36 feature default=no (0.007607)\n",
      "37 feature contact=telephone (0.007554)\n",
      "38 feature poutcome=failure (0.007468)\n",
      "39 feature job=management (0.006960)\n",
      "40 feature education=university.degree (0.006801)\n",
      "41 feature education=basic.4y (0.006793)\n",
      "42 feature job=retired (0.006133)\n",
      "43 feature job=blue-collar (0.005621)\n",
      "44 feature month=jun (0.005561)\n",
      "45 feature job=services (0.005417)\n",
      "46 feature month=nov (0.005339)\n",
      "47 feature job=technician (0.005065)\n",
      "48 feature job=entrepreneur (0.004299)\n",
      "49 feature month=mar (0.004277)\n",
      "50 feature marital=unknown (0.003260)\n",
      "51 feature month=jul (0.003122)\n",
      "52 feature month=dec (0.002604)\n",
      "53 feature month=oct (0.002593)\n",
      "54 feature loan=no (0.002587)\n",
      "55 feature housing=no (0.002433)\n",
      "56 feature month=apr (0.002407)\n",
      "57 feature job=unemployed (0.002289)\n",
      "58 feature month=may (0.002170)\n",
      "59 feature month=aug (0.000850)\n",
      "60 feature marital=single (0.000834)\n",
      "61 feature education=high.school (0.000254)\n",
      "62 feature default=yes (0.000000)\n"
     ]
    }
   ],
   "source": [
    "# Printing the feature importances\n",
    "print(\"Feature Importances:\")\n",
    "\n",
    "for i in range(x.shape[1]):\n",
    "    print(\"{:d} feature {:s} ({:f})\".format(i+1, data_features[indices[i]], importance[indices[i]]))"
   ]
  },
  {
   "cell_type": "markdown",
   "metadata": {},
   "source": [
    "### Plotting of data of most important features"
   ]
  },
  {
   "cell_type": "code",
   "execution_count": 12,
   "metadata": {},
   "outputs": [
    {
     "data": {
      "text/plain": [
       "<seaborn.axisgrid.FacetGrid at 0x20d6680d4e0>"
      ]
     },
     "execution_count": 12,
     "metadata": {},
     "output_type": "execute_result"
    },
    {
     "data": {
      "image/png": "[encoded data removed]",
      "text/plain": [
       "<Figure size 360x360 with 1 Axes>"
      ]
     },
     "metadata": {
      "needs_background": "light"
     },
     "output_type": "display_data"
    }
   ],
   "source": [
    "# Plotting a lmplot of \"age of the customer\" vs \"y=yes\"\n",
    "sns.lmplot(x=\"age\", y=\"y=yes\", data=data_frame2)"
   ]
  },
  {
   "cell_type": "code",
   "execution_count": 13,
   "metadata": {},
   "outputs": [
    {
     "data": {
      "text/plain": [
       "<seaborn.axisgrid.FacetGrid at 0x20d6a7e3908>"
      ]
     },
     "execution_count": 13,
     "metadata": {},
     "output_type": "execute_result"
    },
    {
     "data": {
      "image/png": "[encoded data removed]",
      "text/plain": [
       "<Figure size 360x360 with 1 Axes>"
      ]
     },
     "metadata": {
      "needs_background": "light"
     },
     "output_type": "display_data"
    }
   ],
   "source": [
    "# Plotting a lmplot of \"employment variation rate\" vs \"y=yes\"\n",
    "sns.lmplot(x=\"emp.var.rate\", y=\"y=yes\", data=data_frame2)"
   ]
  },
  {
   "cell_type": "code",
   "execution_count": 14,
   "metadata": {},
   "outputs": [
    {
     "data": {
      "text/plain": [
       "<seaborn.axisgrid.FacetGrid at 0x20d6a6608d0>"
      ]
     },
     "execution_count": 14,
     "metadata": {},
     "output_type": "execute_result"
    },
    {
     "data": {
      "image/png": "[encoded data removed]",
      "text/plain": [
       "<Figure size 360x360 with 1 Axes>"
      ]
     },
     "metadata": {
      "needs_background": "light"
     },
     "output_type": "display_data"
    }
   ],
   "source": [
    "# Plotting a lmplot of \"number of contacts performed\" vs \"y=yes\"\n",
    "sns.lmplot(x=\"campaign\", y=\"y=yes\", data=data_frame2)"
   ]
  },
  {
   "cell_type": "code",
   "execution_count": 15,
   "metadata": {},
   "outputs": [
    {
     "data": {
      "text/plain": [
       "<seaborn.axisgrid.FacetGrid at 0x20d6a24ccf8>"
      ]
     },
     "execution_count": 15,
     "metadata": {},
     "output_type": "execute_result"
    },
    {
     "data": {
      "image/png": "[encoded data removed]",
      "text/plain": [
       "<Figure size 360x360 with 1 Axes>"
      ]
     },
     "metadata": {
      "needs_background": "light"
     },
     "output_type": "display_data"
    }
   ],
   "source": [
    "# Plotting a lmplot of \"last conatct done in september\" vs \"y=yes\"\n",
    "sns.lmplot(x=\"month=sep\", y=\"y=yes\", data=data_frame2)"
   ]
  },
  {
   "cell_type": "code",
   "execution_count": 16,
   "metadata": {},
   "outputs": [
    {
     "data": {
      "text/plain": [
       "<seaborn.axisgrid.FacetGrid at 0x20d674cac88>"
      ]
     },
     "execution_count": 16,
     "metadata": {},
     "output_type": "execute_result"
    },
    {
     "data": {
      "image/png": "[encoded data removed]",
      "text/plain": [
       "<Figure size 360x360 with 1 Axes>"
      ]
     },
     "metadata": {
      "needs_background": "light"
     },
     "output_type": "display_data"
    }
   ],
   "source": [
    "# Plotting a lmplot of \"number of employees\" vs \"y=yes\"\n",
    "sns.lmplot(x=\"nr.employed\", y=\"y=yes\", data=data_frame2)"
   ]
  },
  {
   "cell_type": "markdown",
   "metadata": {},
   "source": [
    "From the above graphs it is clear that campaigning more than 20 times to the same person and campaigning to person with age greater than 90 years is useless. Hence the above should be avoided."
   ]
  },
  {
   "cell_type": "markdown",
   "metadata": {},
   "source": [
    "### Optimization of Cost"
   ]
  },
  {
   "cell_type": "code",
   "execution_count": 17,
   "metadata": {},
   "outputs": [
    {
     "name": "stdout",
     "output_type": "stream",
     "text": [
      "0.043875408967982296\n"
     ]
    }
   ],
   "source": [
    "# Calculation of total conversion ratio\n",
    "conversion_ratio = sum(data_frame2[\"y=yes\"])/sum(data_frame[\"campaign\"])\n",
    "print(conversion_ratio)"
   ]
  },
  {
   "cell_type": "code",
   "execution_count": 18,
   "metadata": {},
   "outputs": [
    {
     "name": "stdout",
     "output_type": "stream",
     "text": [
      "1 Call Eficiency = 0.055842\n",
      "2 Call Eficiency = 0.051431\n",
      "3 Call Eficiency = 0.044236\n",
      "4 Call Eficiency = 0.032613\n",
      "5 Call Eficiency = 0.024077\n",
      "6 Call Eficiency = 0.022157\n",
      "7 Call Eficiency = 0.015794\n",
      "8 Call Eficiency = 0.009567\n",
      "9 Call Eficiency = 0.012346\n",
      "10 Call Eficiency = 0.010969\n",
      "11 Call Eficiency = 0.013809\n",
      "12 Call Eficiency = 0.004335\n",
      "13 Call Eficiency = 0.007055\n",
      "14 Call Eficiency = 0.002105\n",
      "15 Call Eficiency = 0.004926\n",
      "16 Call Eficiency = 0.000000\n",
      "17 Call Eficiency = 0.013158\n",
      "18 Call Eficiency = 0.000000\n",
      "19 Call Eficiency = 0.000000\n"
     ]
    }
   ],
   "source": [
    "# Calculation of Efficiency on every extra call made\n",
    "num = 0.0\n",
    "den = 0.0\n",
    "\n",
    "for i in range(1,20):\n",
    "    num = sum(data_frame2.loc[data_frame2[\"campaign\"]==i]['y=yes'])\n",
    "    den = float(data_frame2.loc[data_frame2[\"campaign\"]>=i].shape[0])\n",
    "    efficiency = num / den\n",
    "    print(\"{:d} Call Eficiency = {:f}\".format(i, efficiency))"
   ]
  },
  {
   "cell_type": "markdown",
   "metadata": {},
   "source": [
    "Considering 2% as the minimum acceptable conversion ratio, hence every call made after the 6th call is considered as extra as the conversion ratio is less than 2%  "
   ]
  },
  {
   "cell_type": "code",
   "execution_count": 19,
   "metadata": {},
   "outputs": [
    {
     "name": "stdout",
     "output_type": "stream",
     "text": [
      "1 Call Efficiency = 0.241135\n",
      "2 Call Efficiency = 0.160000\n",
      "3 Call Efficiency = 0.135135\n",
      "4 Call Efficiency = 0.181818\n",
      "5 Call Efficiency = 0.222222\n",
      "6 Call Efficiency = 0.000000\n",
      "7 Call Efficiency = 0.000000\n",
      "8 Call Efficiency = 0.000000\n",
      "9 Call Efficiency = 0.000000\n",
      "10 Call Efficiency = 0.000000\n",
      "11 Call Efficiency = 0.000000\n",
      "12 Call Efficiency = 0.000000\n",
      "13 Call Efficiency = 0.000000\n",
      "14 Call Efficiency = 0.000000\n",
      "15 Call Efficiency = 0.000000\n",
      "16 Call Efficiency = 0.000000\n",
      "17 Call Efficiency = 0.000000\n",
      "18 Call Efficiency = 0.000000\n",
      "19 Call Efficiency = 0.000000\n"
     ]
    }
   ],
   "source": [
    "# Calculation of Efficiency on every extra call made to age group of 0-20 years\n",
    "for i in range(1,20):\n",
    "    num = float(data_frame2[(data_frame2['age']<=20) & (data_frame2['campaign']==i) & (data_frame2['y=yes']==1)].shape[0])\n",
    "    den = 1+float(data_frame2[(data_frame2['age']<=20) & (data_frame2['campaign']>=i)].shape[0])\n",
    "    efficiency = num / den\n",
    "    print(\"{:d} Call Efficiency = {:f}\".format(i, efficiency))"
   ]
  },
  {
   "cell_type": "code",
   "execution_count": 20,
   "metadata": {},
   "outputs": [
    {
     "name": "stdout",
     "output_type": "stream",
     "text": [
      "1 Call Efficiency = 0.055864\n",
      "2 Call Efficiency = 0.050807\n",
      "3 Call Efficiency = 0.046615\n",
      "4 Call Efficiency = 0.032430\n",
      "5 Call Efficiency = 0.025412\n",
      "6 Call Efficiency = 0.023195\n",
      "7 Call Efficiency = 0.014793\n",
      "8 Call Efficiency = 0.008073\n",
      "9 Call Efficiency = 0.012000\n",
      "10 Call Efficiency = 0.010000\n",
      "11 Call Efficiency = 0.014768\n",
      "12 Call Efficiency = 0.005362\n",
      "13 Call Efficiency = 0.010000\n",
      "14 Call Efficiency = 0.000000\n",
      "15 Call Efficiency = 0.004762\n",
      "16 Call Efficiency = 0.000000\n",
      "17 Call Efficiency = 0.006289\n",
      "18 Call Efficiency = 0.000000\n",
      "19 Call Efficiency = 0.000000\n"
     ]
    }
   ],
   "source": [
    "# Calculation of Efficiency on every extra call made to age group of 20-40 years\n",
    "for i in range(1,20):\n",
    "    num = float(data_frame2[(data_frame2['age']<=40) & (data_frame2[\"age\"]>20) & (data_frame2['campaign']==i) & (data_frame2['y=yes']==1)].shape[0])\n",
    "    den = 1+float(data_frame2[(data_frame2['age']<=40) & (data_frame2[\"age\"]>20) & (data_frame2['campaign']>=i)].shape[0])\n",
    "    efficiency = num / den\n",
    "    print(\"{:d} Call Efficiency = {:f}\".format(i, efficiency))"
   ]
  },
  {
   "cell_type": "code",
   "execution_count": 21,
   "metadata": {},
   "outputs": [
    {
     "name": "stdout",
     "output_type": "stream",
     "text": [
      "1 Call Efficiency = 0.043607\n",
      "2 Call Efficiency = 0.042038\n",
      "3 Call Efficiency = 0.034412\n",
      "4 Call Efficiency = 0.026596\n",
      "5 Call Efficiency = 0.019195\n",
      "6 Call Efficiency = 0.018557\n",
      "7 Call Efficiency = 0.013566\n",
      "8 Call Efficiency = 0.010363\n",
      "9 Call Efficiency = 0.012924\n",
      "10 Call Efficiency = 0.012270\n",
      "11 Call Efficiency = 0.010256\n",
      "12 Call Efficiency = 0.003155\n",
      "13 Call Efficiency = 0.003759\n",
      "14 Call Efficiency = 0.004525\n",
      "15 Call Efficiency = 0.005128\n",
      "16 Call Efficiency = 0.000000\n",
      "17 Call Efficiency = 0.020548\n",
      "18 Call Efficiency = 0.000000\n",
      "19 Call Efficiency = 0.000000\n"
     ]
    }
   ],
   "source": [
    "# Calculation of Efficiency on every extra call made to age group of 40-60 years\n",
    "for i in range(1,20):\n",
    "    num = float(data_frame2[(data_frame2['age']<=60) & (data_frame2[\"age\"]>40) & (data_frame2['campaign']==i) & (data_frame2['y=yes']==1)].shape[0])\n",
    "    den = 1+float(data_frame2[(data_frame2['age']<=60) & (data_frame2[\"age\"]>40) & (data_frame2['campaign']>=i)].shape[0])\n",
    "    efficiency = num / den\n",
    "    print(\"{:d} Call Efficiency = {:f}\".format(i, efficiency))"
   ]
  },
  {
   "cell_type": "code",
   "execution_count": 22,
   "metadata": {},
   "outputs": [
    {
     "name": "stdout",
     "output_type": "stream",
     "text": [
      "1 Call Efficiency = 0.243687\n",
      "2 Call Efficiency = 0.258667\n",
      "3 Call Efficiency = 0.194118\n",
      "4 Call Efficiency = 0.217391\n",
      "5 Call Efficiency = 0.121951\n",
      "6 Call Efficiency = 0.076923\n",
      "7 Call Efficiency = 0.157895\n",
      "8 Call Efficiency = 0.066667\n",
      "9 Call Efficiency = 0.000000\n",
      "10 Call Efficiency = 0.000000\n",
      "11 Call Efficiency = 0.166667\n",
      "12 Call Efficiency = 0.000000\n",
      "13 Call Efficiency = 0.000000\n",
      "14 Call Efficiency = 0.000000\n",
      "15 Call Efficiency = 0.000000\n",
      "16 Call Efficiency = 0.000000\n",
      "17 Call Efficiency = 0.000000\n",
      "18 Call Efficiency = 0.000000\n",
      "19 Call Efficiency = 0.000000\n"
     ]
    }
   ],
   "source": [
    "# Calculation of Efficiency on every extra call made to age group of 60-80 years\n",
    "for i in range(1,20):\n",
    "    num = float(data_frame2[(data_frame2['age']<=80) & (data_frame2[\"age\"]>60) & (data_frame2['campaign']==i) & (data_frame2['y=yes']==1)].shape[0])\n",
    "    den = 1+float(data_frame2[(data_frame2['age']<=80) & (data_frame2[\"age\"]>60) & (data_frame2['campaign']>=i)].shape[0])\n",
    "    efficiency = num / den\n",
    "    print(\"{:d} Call Efficiency = {:f}\".format(i, efficiency))"
   ]
  },
  {
   "cell_type": "code",
   "execution_count": 23,
   "metadata": {},
   "outputs": [
    {
     "name": "stdout",
     "output_type": "stream",
     "text": [
      "1 Call Efficiency = 0.275000\n",
      "2 Call Efficiency = 0.250000\n",
      "3 Call Efficiency = 0.269231\n",
      "4 Call Efficiency = 0.000000\n",
      "5 Call Efficiency = 0.111111\n",
      "6 Call Efficiency = 0.250000\n",
      "7 Call Efficiency = 0.250000\n",
      "8 Call Efficiency = 0.000000\n",
      "9 Call Efficiency = 0.000000\n",
      "10 Call Efficiency = 0.000000\n",
      "11 Call Efficiency = 0.000000\n",
      "12 Call Efficiency = 0.000000\n",
      "13 Call Efficiency = 0.000000\n",
      "14 Call Efficiency = 0.000000\n",
      "15 Call Efficiency = 0.000000\n",
      "16 Call Efficiency = 0.000000\n",
      "17 Call Efficiency = 0.000000\n",
      "18 Call Efficiency = 0.000000\n",
      "19 Call Efficiency = 0.000000\n"
     ]
    }
   ],
   "source": [
    "# Calculation of Efficiency on every extra call made to age group of greater than 80 years\n",
    "for i in range(1,20):\n",
    "    num = float(data_frame2[(data_frame2[\"age\"]>80) & (data_frame2['campaign']==i) & (data_frame2['y=yes']==1)].shape[0])\n",
    "    den = 1+float(data_frame2[(data_frame2[\"age\"]>80) & (data_frame2['campaign']>=i)].shape[0])\n",
    "    efficiency = num / den\n",
    "    print(\"{:d} Call Efficiency = {:f}\".format(i, efficiency))"
   ]
  },
  {
   "cell_type": "code",
   "execution_count": 24,
   "metadata": {},
   "outputs": [],
   "source": [
    "# Calculation of total number of calls made\n",
    "total_calls = sum(data_frame2['campaign'])"
   ]
  },
  {
   "cell_type": "code",
   "execution_count": 25,
   "metadata": {},
   "outputs": [
    {
     "name": "stdout",
     "output_type": "stream",
     "text": [
      "12040.0\n"
     ]
    },
    {
     "name": "stderr",
     "output_type": "stream",
     "text": [
      "c:\\users\\prince gada\\anaconda_new\\envs\\dl\\lib\\site-packages\\ipykernel_launcher.py:2: UserWarning: Boolean Series key will be reindexed to match DataFrame index.\n",
      "  \n"
     ]
    }
   ],
   "source": [
    "# Calculation of no. of extra calls made\n",
    "extra_calls = sum(data_frame2[data_frame2['campaign']>6][data_frame2[\"age\"]<90]['campaign'])\n",
    "extra_calls -= 6*data_frame2[data_frame2['campaign']>6].shape[0]\n",
    "print(extra_calls)"
   ]
  },
  {
   "cell_type": "code",
   "execution_count": 26,
   "metadata": {},
   "outputs": [
    {
     "name": "stdout",
     "output_type": "stream",
     "text": [
      "11.384912154622993\n"
     ]
    }
   ],
   "source": [
    "# Calculation of Percentage by which cost can be reduced\n",
    "reduction_percent = 100*extra_calls/total_calls\n",
    "print(reduction_percent)"
   ]
  },
  {
   "cell_type": "code",
   "execution_count": 27,
   "metadata": {},
   "outputs": [
    {
     "name": "stdout",
     "output_type": "stream",
     "text": [
      "4640.0\n"
     ]
    }
   ],
   "source": [
    "# Calculation of total sales made\n",
    "total_sales = float(data_frame2[data_frame2['y=yes']==1].shape[0])\n",
    "print(total_sales)"
   ]
  },
  {
   "cell_type": "code",
   "execution_count": 28,
   "metadata": {},
   "outputs": [
    {
     "name": "stdout",
     "output_type": "stream",
     "text": [
      "4524.0\n"
     ]
    }
   ],
   "source": [
    "# Calculation of no. of sales achieved by making less than equal to 6 calls and calling people with age less than 90 years\n",
    "less_costly_sales = float(data_frame2[(data_frame2['campaign']<=6) & (data_frame2[\"age\"]<90) & (data_frame2['y=yes']==1)].shape[0])\n",
    "print(less_costly_sales)"
   ]
  },
  {
   "cell_type": "code",
   "execution_count": 29,
   "metadata": {},
   "outputs": [
    {
     "name": "stdout",
     "output_type": "stream",
     "text": [
      "97.5\n"
     ]
    }
   ],
   "source": [
    "# Calculation of Percentage of Sales at low cost\n",
    "sales_percent = 100*less_costly_sales / total_sales\n",
    "print(sales_percent)"
   ]
  },
  {
   "cell_type": "markdown",
   "metadata": {},
   "source": [
    "## Result : \n",
    "### Not calling a person with age greater than 90 years and calling any person at maximum no of 6 times gives 97.5% sales with 11.38% redduction in cost"
   ]
  },
  {
   "cell_type": "code",
   "execution_count": null,
   "metadata": {},
   "outputs": [],
   "source": []
  }
 ],
 "metadata": {
  "kernelspec": {
   "display_name": "Python 3",
   "language": "python",
   "name": "python3"
  },
  "language_info": {
   "codemirror_mode": {
    "name": "ipython",
    "version": 3
   },
   "file_extension": ".py",
   "mimetype": "text/x-python",
   "name": "python",
   "nbconvert_exporter": "python",
   "pygments_lexer": "ipython3",
   "version": "3.6.5"
  }
 },
 "nbformat": 4,
 "nbformat_minor": 2
}
